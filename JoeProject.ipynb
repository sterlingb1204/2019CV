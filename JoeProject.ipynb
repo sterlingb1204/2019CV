{
 "cells": [
  {
   "cell_type": "code",
   "execution_count": 44,
   "metadata": {},
   "outputs": [],
   "source": [
    "def joeproject(vector):\n",
    "    i = 0\n",
    "    for i in range(len(vector)):\n",
    "        if i <  len(vector):\n",
    "            if (vector[i-1] > vector[i]):\n",
    "                bigger = vector[i-1]\n",
    "                vector[i] == vector[i-1]\n",
    "                vector[i-1] == bigger\n",
    "                i = 0\n",
    "    return vector\n",
    "        "
   ]
  },
  {
   "cell_type": "code",
   "execution_count": null,
   "metadata": {},
   "outputs": [],
   "source": []
  }
 ],
 "metadata": {
  "kernelspec": {
   "display_name": "Python 3",
   "language": "python",
   "name": "python3"
  },
  "language_info": {
   "codemirror_mode": {
    "name": "ipython",
    "version": 3
   },
   "file_extension": ".py",
   "mimetype": "text/x-python",
   "name": "python",
   "nbconvert_exporter": "python",
   "pygments_lexer": "ipython3",
   "version": "3.6.5"
  }
 },
 "nbformat": 4,
 "nbformat_minor": 2
}
