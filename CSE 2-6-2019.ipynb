{
 "cells": [
  {
   "cell_type": "code",
   "execution_count": null,
   "metadata": {},
   "outputs": [],
   "source": [
    "import random\n",
    "Target = random.randint(0,10)\n",
    "def guess(number):\n",
    "    x = int(input(\"Please Guess a number\"))\n",
    "    if x > Target:\n",
    "        return \"You're too high\"\n",
    "    elif x == Target:\n",
    "        return \"You got it\"\n",
    "    else:\n",
    "        return \"You're too low\"\n",
    "guess(32)"
   ]
  },
  {
   "cell_type": "code",
   "execution_count": 2,
   "metadata": {},
   "outputs": [
    {
     "name": "stdout",
     "output_type": "stream",
     "text": [
      "21\n"
     ]
    }
   ],
   "source": [
    "numbers = [7,8,1,3,2]\n",
    "i = 0\n",
    "count = 0\n",
    "while(i < len(numbers)):\n",
    "    count += numbers[i]\n",
    "    i+=1\n",
    "\n",
    "print(count)"
   ]
  },
  {
   "cell_type": "code",
   "execution_count": 19,
   "metadata": {},
   "outputs": [
    {
     "name": "stdout",
     "output_type": "stream",
     "text": [
      "21\n"
     ]
    }
   ],
   "source": [
    "numbers = [7,8,1,3,2]\n",
    "count = 0\n",
    "for i in numbers:\n",
    "    count += i\n",
    "print(count)"
   ]
  },
  {
   "cell_type": "code",
   "execution_count": 17,
   "metadata": {},
   "outputs": [
    {
     "data": {
      "text/plain": [
       "[0, 1, 2, 3, 4]"
      ]
     },
     "execution_count": 17,
     "metadata": {},
     "output_type": "execute_result"
    }
   ],
   "source": [
    "list(range(0,5))"
   ]
  },
  {
   "cell_type": "code",
   "execution_count": 21,
   "metadata": {},
   "outputs": [
    {
     "name": "stdout",
     "output_type": "stream",
     "text": [
      "0 caleb\n",
      "1 abigail\n",
      "2 Madeline\n"
     ]
    }
   ],
   "source": [
    "children = [\"caleb\",\"abigail\", \"Madeline\"]\n",
    "for index, child in enumerate(children):\n",
    "    print(index, child)"
   ]
  },
  {
   "cell_type": "code",
   "execution_count": 30,
   "metadata": {},
   "outputs": [],
   "source": [
    "numbers = [5,4,7,100,8,36]\n",
    "def find_smallest(numbers):\n",
    "    i = 0\n",
    "    small = numbers[0]\n",
    "    for i in numbers:\n",
    "        if i < small:\n",
    "            small = i\n",
    "    return(small)\n",
    "  "
   ]
  },
  {
   "cell_type": "code",
   "execution_count": 33,
   "metadata": {},
   "outputs": [
    {
     "data": {
      "text/plain": [
       "1"
      ]
     },
     "execution_count": 33,
     "metadata": {},
     "output_type": "execute_result"
    }
   ],
   "source": [
    "find_smallest([3,7,1,6,7])"
   ]
  },
  {
   "cell_type": "code",
   "execution_count": null,
   "metadata": {},
   "outputs": [],
   "source": [
    "import random\n",
    "MAX_ATTEMPTS\n",
    "def guessing_game(low, high):\n",
    "    number = random.randint(low,high)\n",
    "    guess = None\n",
    "    attempts = 0\n",
    "    \n",
    "    while guess != number:\n",
    "        guess = int(input(\"What is your guess?\"))\n",
    "        if guess > number:\n",
    "            print(\"too high\")\n",
    "        elif guess < number:\n",
    "            print(\"too low\")\n",
    "        attempts += 1\n",
    "        \n",
    "        if attempts == MAX_ATTEMPTS:\n",
    "            print(\"Sorry you only have {} attempts\".format(MAX_ATTEMPTS))\n",
    "        else:\n",
    "            print(\"You guessed {}\".format(number))\n",
    "    print(\"you guessed {}\".format(guess))"
   ]
  },
  {
   "cell_type": "code",
   "execution_count": null,
   "metadata": {},
   "outputs": [],
   "source": [
    "guessing_game(0,10)"
   ]
  },
  {
   "cell_type": "code",
   "execution_count": null,
   "metadata": {},
   "outputs": [],
   "source": []
  },
  {
   "cell_type": "code",
   "execution_count": null,
   "metadata": {},
   "outputs": [],
   "source": []
  },
  {
   "cell_type": "code",
   "execution_count": null,
   "metadata": {},
   "outputs": [],
   "source": []
  }
 ],
 "metadata": {
  "kernelspec": {
   "display_name": "Python 3",
   "language": "python",
   "name": "python3"
  },
  "language_info": {
   "codemirror_mode": {
    "name": "ipython",
    "version": 3
   },
   "file_extension": ".py",
   "mimetype": "text/x-python",
   "name": "python",
   "nbconvert_exporter": "python",
   "pygments_lexer": "ipython3",
   "version": "3.6.5"
  }
 },
 "nbformat": 4,
 "nbformat_minor": 2
}
