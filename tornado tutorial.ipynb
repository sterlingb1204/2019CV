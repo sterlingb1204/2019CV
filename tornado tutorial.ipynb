{
 "cells": [
  {
   "cell_type": "markdown",
   "metadata": {},
   "source": [
    "# Server-Side Programming"
   ]
  },
  {
   "cell_type": "code",
   "execution_count": 1,
   "metadata": {},
   "outputs": [
    {
     "data": {
      "text/plain": [
       "<tornado.httpserver.HTTPServer at 0x1063de8d0>"
      ]
     },
     "execution_count": 1,
     "metadata": {},
     "output_type": "execute_result"
    }
   ],
   "source": [
    "import tornado.ioloop\n",
    "import tornado.web\n",
    "\n",
    "#CONSTANTS\n",
    "PORT = 9999\n",
    "\n",
    "#Handlers\n",
    "\n",
    "class HelloHandler(tornado.web.RequestHandler):\n",
    "    def get(self): #corresponds to HTTP protocol\n",
    "        name = self.get_argument('user', '').split(',')\n",
    "        \n",
    "        \n",
    "        self.render(\"Hello.html\", user = name)\n",
    "#Application\n",
    "Application = tornado.web.Application([\n",
    "    (r'/', HelloHandler),\n",
    "])\n",
    "Application.listen(PORT)"
   ]
  },
  {
   "cell_type": "code",
   "execution_count": 5,
   "metadata": {},
   "outputs": [
    {
     "name": "stdout",
     "output_type": "stream",
     "text": [
      "lo0: flags=8049<UP,LOOPBACK,RUNNING,MULTICAST> mtu 16384\r\n",
      "\toptions=1203<RXCSUM,TXCSUM,TXSTATUS,SW_TIMESTAMP>\r\n",
      "\tinet 127.0.0.1 netmask 0xff000000 \r\n",
      "\tinet6 ::1 prefixlen 128 \r\n",
      "\tinet6 fe80::1%lo0 prefixlen 64 scopeid 0x1 \r\n",
      "\tnd6 options=201<PERFORMNUD,DAD>\r\n",
      "gif0: flags=8010<POINTOPOINT,MULTICAST> mtu 1280\r\n",
      "stf0: flags=0<> mtu 1280\r\n",
      "XHC0: flags=0<> mtu 0\r\n",
      "XHC1: flags=0<> mtu 0\r\n",
      "XHC20: flags=0<> mtu 0\r\n",
      "en0: flags=8863<UP,BROADCAST,SMART,RUNNING,SIMPLEX,MULTICAST> mtu 1500\r\n",
      "\tether 8c:85:90:66:5b:f0 \r\n",
      "\tinet6 fe80::49a:6711:c587:f3e8%en0 prefixlen 64 secured scopeid 0x8 \r\n",
      "\tinet 10.26.124.10 netmask 0xfffff000 broadcast 10.26.127.255\r\n",
      "\tnd6 options=201<PERFORMNUD,DAD>\r\n",
      "\tmedia: autoselect\r\n",
      "\tstatus: active\r\n",
      "p2p0: flags=8843<UP,BROADCAST,RUNNING,SIMPLEX,MULTICAST> mtu 2304\r\n",
      "\tether 0e:85:90:66:5b:f0 \r\n",
      "\tmedia: autoselect\r\n",
      "\tstatus: inactive\r\n",
      "awdl0: flags=8943<UP,BROADCAST,RUNNING,PROMISC,SIMPLEX,MULTICAST> mtu 1484\r\n",
      "\tether a2:fc:8c:ff:7d:45 \r\n",
      "\tinet6 fe80::a0fc:8cff:feff:7d45%awdl0 prefixlen 64 scopeid 0xa \r\n",
      "\tnd6 options=201<PERFORMNUD,DAD>\r\n",
      "\tmedia: autoselect\r\n",
      "\tstatus: active\r\n",
      "en3: flags=8963<UP,BROADCAST,SMART,RUNNING,PROMISC,SIMPLEX,MULTICAST> mtu 1500\r\n",
      "\toptions=60<TSO4,TSO6>\r\n",
      "\tether ca:00:28:49:72:05 \r\n",
      "\tmedia: autoselect <full-duplex>\r\n",
      "\tstatus: inactive\r\n",
      "en4: flags=8963<UP,BROADCAST,SMART,RUNNING,PROMISC,SIMPLEX,MULTICAST> mtu 1500\r\n",
      "\toptions=60<TSO4,TSO6>\r\n",
      "\tether ca:00:28:49:72:04 \r\n",
      "\tmedia: autoselect <full-duplex>\r\n",
      "\tstatus: inactive\r\n",
      "en1: flags=8963<UP,BROADCAST,SMART,RUNNING,PROMISC,SIMPLEX,MULTICAST> mtu 1500\r\n",
      "\toptions=60<TSO4,TSO6>\r\n",
      "\tether ca:00:28:49:72:01 \r\n",
      "\tmedia: autoselect <full-duplex>\r\n",
      "\tstatus: inactive\r\n",
      "en2: flags=8963<UP,BROADCAST,SMART,RUNNING,PROMISC,SIMPLEX,MULTICAST> mtu 1500\r\n",
      "\toptions=60<TSO4,TSO6>\r\n",
      "\tether ca:00:28:49:72:00 \r\n",
      "\tmedia: autoselect <full-duplex>\r\n",
      "\tstatus: inactive\r\n",
      "bridge0: flags=8863<UP,BROADCAST,SMART,RUNNING,SIMPLEX,MULTICAST> mtu 1500\r\n",
      "\toptions=63<RXCSUM,TXCSUM,TSO4,TSO6>\r\n",
      "\tether ca:00:28:49:72:01 \r\n",
      "\tConfiguration:\r\n",
      "\t\tid 0:0:0:0:0:0 priority 0 hellotime 0 fwddelay 0\r\n",
      "\t\tmaxage 0 holdcnt 0 proto stp maxaddr 100 timeout 1200\r\n",
      "\t\troot id 0:0:0:0:0:0 priority 0 ifcost 0 port 0\r\n",
      "\t\tipfilter disabled flags 0x2\r\n",
      "\tmember: en1 flags=3<LEARNING,DISCOVER>\r\n",
      "\t        ifmaxaddr 0 port 13 priority 0 path cost 0\r\n",
      "\tmember: en2 flags=3<LEARNING,DISCOVER>\r\n",
      "\t        ifmaxaddr 0 port 14 priority 0 path cost 0\r\n",
      "\tmember: en3 flags=3<LEARNING,DISCOVER>\r\n",
      "\t        ifmaxaddr 0 port 11 priority 0 path cost 0\r\n",
      "\tmember: en4 flags=3<LEARNING,DISCOVER>\r\n",
      "\t        ifmaxaddr 0 port 12 priority 0 path cost 0\r\n",
      "\tnd6 options=201<PERFORMNUD,DAD>\r\n",
      "\tmedia: <unknown type>\r\n",
      "\tstatus: inactive\r\n",
      "utun0: flags=8051<UP,POINTOPOINT,RUNNING,MULTICAST> mtu 2000\r\n",
      "\tinet6 fe80::f143:b022:ea6e:66a9%utun0 prefixlen 64 scopeid 0x10 \r\n",
      "\tnd6 options=201<PERFORMNUD,DAD>\r\n",
      "ipsec0: flags=8051<UP,POINTOPOINT,RUNNING,MULTICAST> mtu 50000\r\n",
      "\tinet 223.154.1.42 --> 223.154.1.42 netmask 0xffffffff \r\n",
      "utun1: flags=8051<UP,POINTOPOINT,RUNNING,MULTICAST> mtu 1380\r\n",
      "\tinet6 fe80::fd91:9dff:16df:7c81%utun1 prefixlen 64 scopeid 0x12 \r\n",
      "\tnd6 options=201<PERFORMNUD,DAD>\r\n",
      "en5: flags=8863<UP,BROADCAST,SMART,RUNNING,SIMPLEX,MULTICAST> mtu 1500\r\n",
      "\tether ac:de:48:00:11:22 \r\n",
      "\tinet6 fe80::aede:48ff:fe00:1122%en5 prefixlen 64 scopeid 0x7 \r\n",
      "\tnd6 options=201<PERFORMNUD,DAD>\r\n",
      "\tmedia: autoselect\r\n",
      "\tstatus: active\r\n"
     ]
    }
   ],
   "source": [
    "!ifconfig"
   ]
  },
  {
   "cell_type": "code",
   "execution_count": null,
   "metadata": {},
   "outputs": [],
   "source": []
  }
 ],
 "metadata": {
  "kernelspec": {
   "display_name": "Python 3",
   "language": "python",
   "name": "python3"
  },
  "language_info": {
   "codemirror_mode": {
    "name": "ipython",
    "version": 3
   },
   "file_extension": ".py",
   "mimetype": "text/x-python",
   "name": "python",
   "nbconvert_exporter": "python",
   "pygments_lexer": "ipython3",
   "version": "3.6.8"
  }
 },
 "nbformat": 4,
 "nbformat_minor": 2
}
