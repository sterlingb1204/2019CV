{
 "cells": [
  {
   "cell_type": "markdown",
   "metadata": {},
   "source": [
    "# Lab 07: The Internet\n",
    "\n",
    "- **Name**:  Sterling Bhollah\n",
    "- **Netid**: sbhollah"
   ]
  },
  {
   "cell_type": "markdown",
   "metadata": {},
   "source": [
    "## Activity 1: SpeedTest\n",
    "\n",
    "For the first activity, you are to measure the speed of various networking technologies by using the [SpeedTest] website.  You are to use the following three connection types:\n",
    "\n",
    "1. **Wired connection from your laptop or a lab machine**\n",
    "\n",
    "2. **Wireless connection from your laptop**\n",
    "\n",
    "3. **Cellular connection from your phone (make sure you are using 4G/LTE and not WiFi)**\n",
    "\n",
    "\n",
    "To test the speed of each connection, simply go to the website on the appropriate device: www.speedtest.net and hit the `Go` button.  This will measure your **Ping**, **Download**, and **Upload** speeds to generate a result such as:\n",
    "\n",
    "<img src=\"https://www.speedtest.net/result/8129841449.png\">\n",
    "<img src=\"https://www.speedtest.net/result/8129848300.png\">\n",
    "\n",
    "[SpeedTest]: https://www.speedtest.net/"
   ]
  },
  {
   "cell_type": "markdown",
   "metadata": {},
   "source": [
    "### Speed Tests\n",
    "\n",
    "Run the [SpeedTest] on each connection type a few times to get a representative sample and then complete the table below:\n",
    "\n",
    "| Connection Type | Ping (ms) | Download (Mbps) | Upload (Mbps) |\n",
    "|-----------------|-----------|-----------------|---------------|\n",
    "| Wireless        | 3         | 35.48           | 87.53         |\n",
    "| Wired           | 1         | 94.11           | 90.45         |\n",
    "| Cellular        | 66        | 12.90           | 4.05          |\n",
    "\n",
    "<center><font color=\"red\">Complete Table</font></center>\n",
    "\n",
    "[SpeedTest]: https://www.speedtest.net/"
   ]
  },
  {
   "cell_type": "markdown",
   "metadata": {},
   "source": [
    "### Analysis\n",
    "\n",
    "After completing the table above with your speed tests, analyze the results by answering the following questions:\n",
    "\n",
    "1. Which connection type had the best **latency**?  Explain.\n",
    "\n",
    "    <font color=\"red\">The wired connection had the best latency because it took only 1ms for the service to respond to my request, while wireless took 3ms and cellular took 66ms. </font>\n",
    "\n",
    "2. Which connection type had the best **bandwidth**?  Explain.\n",
    "\n",
    "    <font color=\"red\">The wired connection had the best bandwidth. Bandwidth is a measure of network capacity. This means that a wired connection allowed for me to transfer the most data over a certain period of time than the other connection types. The wired connection had 94.11 Mbps download and 90.45 Mbps upload.</font>\n",
    "    \n",
    "3. What difference (if any) did you notice between **download** and **upload** speeds?  Discuss why this could be.\n",
    "    \n",
    "    <font color=\"red\">For the wired and cellular connection, the download speed was faster than the upload speed. This is because internet connection is asymetric and is optimized for downloads since users of the internet download much more information than they actually upload. However, the wireless connection had a much faster upload connection than it did a download connection. This could be because I was connected to the eduroam wifi network and there was probably a lot more downstream bandwidth being used by other users than the upstream bandwidth. For this reason, I experienced faster upload speed than I did download speed. In addition, I probably did not experience this issue with the wired connection because there were not as many users using wired connection to cause a significant decrease in download speed. </font>\n",
    "\n",
    "4. Overall, which connection type was the **best**?  Explain.\n",
    "\n",
    "    <font color=\"red\">Overall the best connection type was the wired connection because it had both the best latency and bandwidth. This is because wired connection does not experience the same types of problems that wireless connection does, such as interference from other devices.</font>"
   ]
  },
  {
   "cell_type": "markdown",
   "metadata": {},
   "source": [
    "## Activity 2: Bandwidth and Latency\n",
    "\n",
    "For the second activity, you are to write two functions that you can utilize to perform your own **bandwidth** and **latency** measurements.  The first is `measure_bandwidth`, which uses [requests] to download data from a web server, while the second is `measure_latency` which uses a low-level [socket] to connect to a remote server.  For timing, we will use Python's [time] module:\n",
    "\n",
    "    current_time = time.time()\n",
    "\n",
    "[requests]: http://docs.python-requests.org/en/master/\n",
    "[socket]: https://docs.python.org/3/library/socket.html\n",
    "[time]: https://docs.python.org/3/library/time.html"
   ]
  },
  {
   "cell_type": "markdown",
   "metadata": {},
   "source": [
    "### Measure Bandwidth"
   ]
  },
  {
   "cell_type": "code",
   "execution_count": 7,
   "metadata": {},
   "outputs": [],
   "source": [
    "import requests\n",
    "import time\n",
    "\n",
    "def measure_bandwidth(url):\n",
    "    ''' Measure bandwidth by doing the following:\n",
    "    \n",
    "    1. Record start time.\n",
    "    2. Download data specified by url.\n",
    "    3. Record end time.\n",
    "    4. Compute bandwidth:\n",
    "    \n",
    "        bandwidth = (Amount of Data / Elapsed Time) / 2**20\n",
    "    '''\n",
    "    startTime = time.time()\n",
    "    response = requests.get(url)\n",
    "    endTime = time.time()\n",
    "    elapsedTime = endTime - startTime\n",
    "    \n",
    "    amount_of_data = len(response.content)\n",
    "    bandwidth = (amount_of_data / elapsedTime)/(2**20)\n",
    "    \n",
    "    return bandwidth"
   ]
  },
  {
   "cell_type": "code",
   "execution_count": 2,
   "metadata": {},
   "outputs": [
    {
     "data": {
      "text/plain": [
       "2.762810626005976"
      ]
     },
     "execution_count": 2,
     "metadata": {},
     "output_type": "execute_result"
    }
   ],
   "source": [
    "measure_bandwidth(\"https://downloads.slack-edge.com/releases_x64/SlackSetup.exe\")"
   ]
  },
  {
   "cell_type": "code",
   "execution_count": 18,
   "metadata": {},
   "outputs": [],
   "source": [
    "URLS = {\n",
    "    'Discord': 'https://downloads.slack-edge.com/releases_x64/SlackSetup.exe',\n",
    "    'Slack'  : 'https://dl.discordapp.net/apps/win/0.0.305/DiscordSetup.exe',\n",
    "    'Firefox': 'https://download-installer.cdn.mozilla.net/pub/firefox/releases/66.0/linux-x86_64/en-US/firefox-66.0.tar.bz2'\n",
    "}"
   ]
  },
  {
   "cell_type": "code",
   "execution_count": 27,
   "metadata": {},
   "outputs": [
    {
     "name": "stdout",
     "output_type": "stream",
     "text": [
      "Downloaded Discord with bandwidth of 18.85 MBps\n",
      "Downloaded Slack with bandwidth of 21.72 MBps\n",
      "Downloaded Firefox with bandwidth of 23.46 MBps\n"
     ]
    }
   ],
   "source": [
    "for url in URLS:\n",
    "    speed = measure_bandwidth(URLS[url])\n",
    "    print(\"Downloaded {} with bandwidth of {:.2f} MBps\".format(url, speed))"
   ]
  },
  {
   "cell_type": "markdown",
   "metadata": {},
   "source": [
    "### Measure Latency"
   ]
  },
  {
   "cell_type": "code",
   "execution_count": 1,
   "metadata": {},
   "outputs": [],
   "source": [
    "import socket\n",
    "import time\n",
    "\n",
    "def measure_latency(domain):\n",
    "    ''' Measure latency by doing the following:\n",
    "    \n",
    "    1. Create streaming internet socket.\n",
    "    2. Record start time.\n",
    "    3. Connect to specified domain at port 80.\n",
    "    4. Record end time.\n",
    "    5. Compute latency:\n",
    "    \n",
    "        latency = Elapsed Time * 1000\n",
    "    '''\n",
    "    \n",
    "    s = socket.socket(socket.AF_INET, socket.SOCK_STREAM)\n",
    "    startTime = time.time()\n",
    "    s.connect((domain, 80))\n",
    "    endTime = time.time()\n",
    "    elapsedTime = endTime - startTime\n",
    "    \n",
    "    latency = elapsedTime * 1000\n",
    "    \n",
    "    return latency"
   ]
  },
  {
   "cell_type": "code",
   "execution_count": 3,
   "metadata": {},
   "outputs": [],
   "source": [
    "DOMAINS = [\n",
    "    'facebook.com',\n",
    "    'cnn.com',\n",
    "    'google.com',\n",
    "    'nd.edu',\n",
    "    'amazon.co.uk',\n",
    "    'baidu.com',\n",
    "    'europa.eu',\n",
    "    'yahoo.co.jp',\n",
    "]"
   ]
  },
  {
   "cell_type": "code",
   "execution_count": 6,
   "metadata": {},
   "outputs": [
    {
     "name": "stdout",
     "output_type": "stream",
     "text": [
      "Connection to facebook.com has latency of 75.23 ms\n",
      "Connection to cnn.com has latency of 75.07 ms\n",
      "Connection to google.com has latency of 75.49 ms\n",
      "Connection to nd.edu has latency of 86.08 ms\n",
      "Connection to amazon.co.uk has latency of 162.17 ms\n",
      "Connection to baidu.com has latency of 284.97 ms\n",
      "Connection to europa.eu has latency of 183.59 ms\n",
      "Connection to yahoo.co.jp has latency of 228.76 ms\n"
     ]
    }
   ],
   "source": [
    "for domain in DOMAINS:\n",
    "    print(\"Connection to {} has latency of {:.2f} ms\".format(domain, measure_latency(domain)))"
   ]
  },
  {
   "cell_type": "markdown",
   "metadata": {},
   "source": [
    "### Analysis\n",
    "\n",
    "After writing the `measure_bandwidth` and `measure_latency` functions above and testing them, answer the following questions:\n",
    "\n",
    "1. Which applications had the best bandwidth?  How do these bandwidth measurements compare to the ones you had in Activity 1?  What explains the differences?\n",
    "\n",
    "    <font color=\"red\">Firefox had the best bandwidth because it transfered the most data per second than any other application. These bandwidths are slower than the ones in activity 1. I believe that this is because speedtest.net automatically calculates speeds using the closest server while connecting to a certain service such as firefox.com might not use a local server so the speeds will be slower.</font>\n",
    "\n",
    "2. Which domains had the best latency?  Which ones had the worst latency?  What explains these differences?\n",
    "\n",
    "    <font color=\"red\">Facebook.com had the best latency at 75.23ms. The worst latency was baidu.com at 284.97ms. These differences are due to how far the servers are located from me. Facebook likely has regional servers across the United States in order to deliver quick responses to the users. However, baidu.com probably only has servers in Asia so it will take more time for the data to travel over a longer distance.</font>"
   ]
  },
  {
   "cell_type": "markdown",
   "metadata": {},
   "source": [
    "## Activity 3: EggHead's Adventure\n",
    "\n",
    "For the last activity, you are play the following educational game created by the [Office of Digital Learning] as an experiment:\n",
    "\n",
    "- [Introduction to Networks](https://s3.us-east-2.amazonaws.com/cs4all/cs4all-game/story_html5.html)\n",
    "\n",
    "- [Network Toolkit](https://s3.us-east-2.amazonaws.com/cs4all/Network-toolkit/story_html5.html)\n",
    "\n",
    "Once you have completed the game, please fill out the following [survey](https://goo.gl/forms/AfUJ5b4cQfVqwCof1).\n",
    "\n",
    "[Office of Digital Learning]: https://online.nd.edu/"
   ]
  },
  {
   "cell_type": "code",
   "execution_count": null,
   "metadata": {},
   "outputs": [],
   "source": []
  }
 ],
 "metadata": {
  "kernelspec": {
   "display_name": "Python 3",
   "language": "python",
   "name": "python3"
  },
  "language_info": {
   "codemirror_mode": {
    "name": "ipython",
    "version": 3
   },
   "file_extension": ".py",
   "mimetype": "text/x-python",
   "name": "python",
   "nbconvert_exporter": "python",
   "pygments_lexer": "ipython3",
   "version": "3.6.8"
  }
 },
 "nbformat": 4,
 "nbformat_minor": 2
}
