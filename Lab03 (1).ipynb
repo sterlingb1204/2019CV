{
 "cells": [
  {
   "cell_type": "markdown",
   "metadata": {},
   "source": [
    "# Lab 03: Fizz Buzz Boom, Palindromes\n",
    "\n",
    "- **Name**: Sterling Bhollah\n",
    "- **Netid**: sbhollah"
   ]
  },
  {
   "cell_type": "markdown",
   "metadata": {},
   "source": [
    "## Activity 1: Fizz, Buzz, Boom"
   ]
  },
  {
   "cell_type": "markdown",
   "metadata": {},
   "source": [
    "### Function"
   ]
  },
  {
   "cell_type": "code",
   "execution_count": 46,
   "metadata": {},
   "outputs": [],
   "source": [
    "def fizz_buzz_boom(start, end):\n",
    "    for i in range(start, end + 1):\n",
    "        if i == 0:\n",
    "            print(i)\n",
    "        elif i%3 == 0 and i%5 == 0 and i%7 == 0:\n",
    "            print(\"FizzBuzzBoom\")\n",
    "        elif i%3 ==0 and i%7 == 0:\n",
    "            print(\"FizzBoom\")\n",
    "        elif i%5 == 0 and i%7 == 0:\n",
    "            print(\"BuzzBoom\")\n",
    "        elif i%3 == 0 and i%5 == 0:\n",
    "            print(\"FizzBuzz\")\n",
    "        elif i%3 == 0:\n",
    "            print(\"Fizz\")\n",
    "        elif i%5 == 0:\n",
    "            print(\"Buzz\")\n",
    "        elif i%7 == 0:\n",
    "            print(\"Boom\")\n",
    "        else:\n",
    "            print(i)\n",
    "        i+=1\n",
    "    \n",
    "    \n",
    "    ''' For all the numbers between start and end (inclusive),\n",
    "    \n",
    "    - Display Fizz for multiples of 3\n",
    "    - Display Buzz for multiples of 5 \n",
    "    - Display Boom for multiples of 7\n",
    "    - Display FizzBuzz for multiples of both 3 and 5\n",
    "    - Display FizzBoom for multiples of both 3 and 7\n",
    "    - Display BuzzBoom for multiples of both 5 and 7\n",
    "    - Display FizzBuzzBoom for multiples of 3, 5, and 7\n",
    "    - Display the number if it doesn't meet any of the criteria above.\n",
    "    '''\n",
    "    pass"
   ]
  },
  {
   "cell_type": "markdown",
   "metadata": {},
   "source": [
    "### Tests"
   ]
  },
  {
   "cell_type": "code",
   "execution_count": 47,
   "metadata": {},
   "outputs": [],
   "source": [
    "A1_TESTS = [\n",
    "   [3, 7],\n",
    "   [1, 10],\n",
    "   [1, 100],\n",
    "   [100, 110],\n",
    "]"
   ]
  },
  {
   "cell_type": "code",
   "execution_count": 48,
   "metadata": {},
   "outputs": [
    {
     "name": "stdout",
     "output_type": "stream",
     "text": [
      "\n",
      "fizz_buzz_boom(3,7)\n",
      "Fizz\n",
      "4\n",
      "Buzz\n",
      "Fizz\n",
      "Boom\n",
      "\n",
      "fizz_buzz_boom(1,10)\n",
      "1\n",
      "2\n",
      "Fizz\n",
      "4\n",
      "Buzz\n",
      "Fizz\n",
      "Boom\n",
      "8\n",
      "Fizz\n",
      "Buzz\n",
      "\n",
      "fizz_buzz_boom(1,100)\n",
      "1\n",
      "2\n",
      "Fizz\n",
      "4\n",
      "Buzz\n",
      "Fizz\n",
      "Boom\n",
      "8\n",
      "Fizz\n",
      "Buzz\n",
      "11\n",
      "Fizz\n",
      "13\n",
      "Boom\n",
      "FizzBuzz\n",
      "16\n",
      "17\n",
      "Fizz\n",
      "19\n",
      "Buzz\n",
      "FizzBoom\n",
      "22\n",
      "23\n",
      "Fizz\n",
      "Buzz\n",
      "26\n",
      "Fizz\n",
      "Boom\n",
      "29\n",
      "FizzBuzz\n",
      "31\n",
      "32\n",
      "Fizz\n",
      "34\n",
      "BuzzBoom\n",
      "Fizz\n",
      "37\n",
      "38\n",
      "Fizz\n",
      "Buzz\n",
      "41\n",
      "FizzBoom\n",
      "43\n",
      "44\n",
      "FizzBuzz\n",
      "46\n",
      "47\n",
      "Fizz\n",
      "Boom\n",
      "Buzz\n",
      "Fizz\n",
      "52\n",
      "53\n",
      "Fizz\n",
      "Buzz\n",
      "Boom\n",
      "Fizz\n",
      "58\n",
      "59\n",
      "FizzBuzz\n",
      "61\n",
      "62\n",
      "FizzBoom\n",
      "64\n",
      "Buzz\n",
      "Fizz\n",
      "67\n",
      "68\n",
      "Fizz\n",
      "BuzzBoom\n",
      "71\n",
      "Fizz\n",
      "73\n",
      "74\n",
      "FizzBuzz\n",
      "76\n",
      "Boom\n",
      "Fizz\n",
      "79\n",
      "Buzz\n",
      "Fizz\n",
      "82\n",
      "83\n",
      "FizzBoom\n",
      "Buzz\n",
      "86\n",
      "Fizz\n",
      "88\n",
      "89\n",
      "FizzBuzz\n",
      "Boom\n",
      "92\n",
      "Fizz\n",
      "94\n",
      "Buzz\n",
      "Fizz\n",
      "97\n",
      "Boom\n",
      "Fizz\n",
      "Buzz\n",
      "\n",
      "fizz_buzz_boom(100,110)\n",
      "Buzz\n",
      "101\n",
      "Fizz\n",
      "103\n",
      "104\n",
      "FizzBuzzBoom\n",
      "106\n",
      "107\n",
      "Fizz\n",
      "109\n",
      "Buzz\n"
     ]
    }
   ],
   "source": [
    "for i,k in A1_TESTS:\n",
    "    print(\"\")\n",
    "    print(\"fizz_buzz_boom({},{})\".format(i,k))\n",
    "    fizz_buzz_boom(i,k)"
   ]
  },
  {
   "cell_type": "markdown",
   "metadata": {},
   "source": [
    "### Reflection\n",
    "\n",
    "After you have completed the program above, answer the following questions:\n",
    "\n",
    "1. Describe the **flow control** of your program. What sort of **conditional** or **repeated execution** statements did you use?\n",
    "\n",
    "    <font color=\"red\"> The program starts by running a for-loop that uses i,k as iterator variables to traverse the list A1_TESTS. The first thing the program runs is a print statement that displays the start and end variables that the program will pass into the fizz_buzz_boom() function. Then the program will call the fizz_buzz_boom() function on (i,k). This will cause the fizz_buzz_boom() function to run a for-loop that uses the iterator variable, i, to traverse the range (start, end-1). The function will then use **chained conditional** execution to check if the i variable is divisible by 3, 5, and/or 7. If it satisfies any of the conditions it will return the respective string. Otherwise it will simply return the number. After i is checked against each condition, i will be incremented by 1. This will cause the function to continue its **repeated execution** in the fizz_buzz_boom() function until the i variable is equal to the end - 1 value. At this point, the function will stop and will cause the A1_TESTS loop to iterate through the next pair. The i variable will be equal to the next pair's start value and the k variable will be equal to the end value of that same pair. The loop will continue to run this process until it reaches the last pair in A1_TESTS and then it will stop.   </font>\n",
    "\n",
    "2. Why do you think this question often trips up candidates interviewing for programming positions? What was the **trickiest** part of this problem for you?\n",
    "\n",
    "    <font color=\"red\"> I believe the trickiest part was figuring out how to use a for-loop to traverse through the A1_TESTS list and pass each pair of numbers through the fizz_buzz_boom() function. This was difficult because I used two iterator variables, i & k, and I have never done that before.</font>\n",
    "\n"
   ]
  },
  {
   "cell_type": "markdown",
   "metadata": {},
   "source": [
    "## Activity 2: Palindromes"
   ]
  },
  {
   "cell_type": "markdown",
   "metadata": {},
   "source": [
    "### Function"
   ]
  },
  {
   "cell_type": "code",
   "execution_count": 49,
   "metadata": {},
   "outputs": [],
   "source": [
    "def is_palindrome(numbers):\n",
    "    ''' Return True if the numbers list is a palindromic sequence, otherwise return False '''\n",
    "\n",
    "    reverse = numbers[::-1]\n",
    "    \n",
    "    count = 0\n",
    "    for i in range(len(numbers)-1): #figure out why it is not len(numbers) - 1\n",
    "        if numbers[i] != reverse[i]:      \n",
    "            return False\n",
    "        i+=1\n",
    "    return True\n",
    "    \n",
    "    pass"
   ]
  },
  {
   "cell_type": "markdown",
   "metadata": {},
   "source": [
    "### Tests"
   ]
  },
  {
   "cell_type": "code",
   "execution_count": 44,
   "metadata": {},
   "outputs": [],
   "source": [
    "A2_TESTS = [\n",
    "    [1],\n",
    "    [1, 2],\n",
    "    [1, 2, 1],\n",
    "    [1, 2, 2, 1],\n",
    "    [1, 2, 3, 1],\n",
    "    [1, 3, 2, 1],\n",
    "    [1, 2, 3, 2, 1],\n",
    "]"
   ]
  },
  {
   "cell_type": "code",
   "execution_count": 51,
   "metadata": {},
   "outputs": [
    {
     "name": "stdout",
     "output_type": "stream",
     "text": [
      "is_palindrome([1]) -> True\n",
      "is_palindrome([1, 2]) -> False\n",
      "is_palindrome([1, 2, 1]) -> True\n",
      "is_palindrome([1, 2, 2, 1]) -> True\n",
      "is_palindrome([1, 2, 3, 1]) -> False\n",
      "is_palindrome([1, 3, 2, 1]) -> False\n",
      "is_palindrome([1, 2, 3, 2, 1]) -> True\n"
     ]
    }
   ],
   "source": [
    "# Write a loop that tests each of the sub-lists inside of the A2_TESTS list.\n",
    "for i in A2_TESTS:\n",
    "    print(\"is_palindrome({}) -> {}\".format(i,is_palindrome(i)))"
   ]
  },
  {
   "cell_type": "markdown",
   "metadata": {},
   "source": [
    "### Reflection\n",
    "\n",
    "After you have completed the program above, answer the following questions:\n",
    "\n",
    "1. Describe the **flow control** of your program.  What sort of **conditional** or **repeated execution** statements did you use?\n",
    "\n",
    "     <font color=\"red\"> The program begins by running a for-loop which is an example of **repeated execution**. The for-loop uses the variable i to iterate over each list in A2_TESTS. The for-loop will print the list from A2_TESTS as well as call is_palindrome() on each list. The function will create a reverse list and store it as the variable, reverse. This function will then execute a for-loop which is an example of **repeated execution** that will iterate simultaneously through the the orignial and reverse list. The function will check if at any point during the iteration of both the reverse and the original list if the values at that index are not equal. This check is an example of an **alternative execution**. At which point, the program will return False. Otherwise the program will return True and the A2_TESTS loop will print the output for each list. This A2_TESTS loop will iterate until all the lists have been iterated through. The program will then stop. </font>\n",
    "\n",
    "2. Why do you think this question often trips up candidates interviewing for programming positions? What was the **trickiest** part of this problem for you?\n",
    "\n",
    "    <font color=\"red\"> I think the **trickiest** part of this code was figuring out how to determine if a list was a palindrome. I tried splitting the original list in half and have 2 seperate for-loops to iterate through both sides to see if they were the same. However, I found a better solution by just reversing the list and iterating through both lists in one for-loop. </font>"
   ]
  },
  {
   "cell_type": "code",
   "execution_count": null,
   "metadata": {},
   "outputs": [],
   "source": []
  }
 ],
 "metadata": {
  "kernelspec": {
   "display_name": "Python 3",
   "language": "python",
   "name": "python3"
  },
  "language_info": {
   "codemirror_mode": {
    "name": "ipython",
    "version": 3
   },
   "file_extension": ".py",
   "mimetype": "text/x-python",
   "name": "python",
   "nbconvert_exporter": "python",
   "pygments_lexer": "ipython3",
   "version": "3.6.5"
  }
 },
 "nbformat": 4,
 "nbformat_minor": 2
}
