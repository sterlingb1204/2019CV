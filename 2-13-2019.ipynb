{
 "cells": [
  {
   "cell_type": "code",
   "execution_count": 28,
   "metadata": {},
   "outputs": [
    {
     "ename": "SyntaxError",
     "evalue": "invalid syntax (<ipython-input-28-95ce6a6a366c>, line 1)",
     "output_type": "error",
     "traceback": [
      "\u001b[0;36m  File \u001b[0;32m\"<ipython-input-28-95ce6a6a366c>\"\u001b[0;36m, line \u001b[0;32m1\u001b[0m\n\u001b[0;31m    Make sure numbers are sorted\u001b[0m\n\u001b[0m            ^\u001b[0m\n\u001b[0;31mSyntaxError\u001b[0m\u001b[0;31m:\u001b[0m invalid syntax\n"
     ]
    }
   ],
   "source": [
    "Make sure numbers are sorted\n",
    "Go to middle\n",
    "compare middle to target\n",
    "    if middle < target\n",
    "        go to right\n",
    "    if middle > target\n",
    "        go to left\n",
    "    otherwise\n",
    "        found it\n"
   ]
  },
  {
   "cell_type": "code",
   "execution_count": 29,
   "metadata": {},
   "outputs": [],
   "source": [
    "import random\n",
    "\n",
    "def generate_random_numbers(n, start, end):\n",
    "    '''Generates a list of random numbers between start and end'''\n",
    "    numbers = [] #initialize with empty or blank\n",
    "    for number in range(n):   # loop n times\n",
    "        r = random.randint(start, end) # Genertaes one random number\n",
    "        numbers.append(r)              #Add to back of the numbers list using **append**\n",
    "    return numbers"
   ]
  },
  {
   "cell_type": "code",
   "execution_count": 34,
   "metadata": {},
   "outputs": [],
   "source": [
    "random_numbers = generate_random_numbers(10,1,100000000000)"
   ]
  },
  {
   "cell_type": "code",
   "execution_count": 35,
   "metadata": {},
   "outputs": [],
   "source": [
    "sorted_numbers = sorted(random_numbers)\n",
    "#print(sorted_numbers)"
   ]
  },
  {
   "cell_type": "code",
   "execution_count": 36,
   "metadata": {},
   "outputs": [],
   "source": [
    "def binary_search(numbers, target):\n",
    "    start = 0\n",
    "    #middle = (start + end) // 2 #this is integer division\n",
    "    end = len(numbers) -1\n",
    "    #midpoint = numbers[middle]\n",
    "    \n",
    "    while start<= end:\n",
    "        middle = (start + end) // 2 #this is integer division\n",
    "        midpoint = numbers[middle]\n",
    "        if(midpoint == target):\n",
    "            return True \n",
    "        if (midpoint > target):\n",
    "            end = middle - 1\n",
    "        else:\n",
    "            start = middle + 1\n",
    "    return False\n",
    "    "
   ]
  },
  {
   "cell_type": "code",
   "execution_count": 37,
   "metadata": {},
   "outputs": [
    {
     "name": "stdout",
     "output_type": "stream",
     "text": [
      "531 ns ± 5.25 ns per loop (mean ± std. dev. of 7 runs, 1000000 loops each)\n"
     ]
    }
   ],
   "source": [
    "%timeit binary_search(sorted_numbers, 49)"
   ]
  },
  {
   "cell_type": "code",
   "execution_count": 24,
   "metadata": {},
   "outputs": [
    {
     "name": "stdout",
     "output_type": "stream",
     "text": [
      "77.1 ns ± 0.618 ns per loop (mean ± std. dev. of 7 runs, 10000000 loops each)\n"
     ]
    }
   ],
   "source": [
    "%timeit 100 in random_numbers"
   ]
  },
  {
   "cell_type": "code",
   "execution_count": null,
   "metadata": {},
   "outputs": [],
   "source": [
    "def merge_sort(numbers):\n",
    "    #base Case\n",
    "    if len(numbers) <=1:\n",
    "        return numbers\n",
    "    #divide\n",
    "    middle = len(numbers) // 2\n",
    "    left = numbers[:middle]\n",
    "    right = numbers[middle:]\n",
    "    #conquer\n",
    "    left = merge_sort(left)\n",
    "    right = merge_sort(right)\n",
    "    #combine\n",
    "    return merge(left,right)\n",
    "                "
   ]
  }
 ],
 "metadata": {
  "kernelspec": {
   "display_name": "Python 3",
   "language": "python",
   "name": "python3"
  },
  "language_info": {
   "codemirror_mode": {
    "name": "ipython",
    "version": 3
   },
   "file_extension": ".py",
   "mimetype": "text/x-python",
   "name": "python",
   "nbconvert_exporter": "python",
   "pygments_lexer": "ipython3",
   "version": "3.6.5"
  }
 },
 "nbformat": 4,
 "nbformat_minor": 2
}
