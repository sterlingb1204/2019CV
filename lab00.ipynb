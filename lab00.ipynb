{
 "cells": [
  {
   "cell_type": "markdown",
   "metadata": {},
   "source": [
    "# Lab 00: Hardware, Programming"
   ]
  },
  {
   "cell_type": "markdown",
   "metadata": {},
   "source": [
    "- **Name**:  Sterling Bhollah\n",
    "- **Netid**: sbhollah\n",
    "\n",
    "<font color=\"red\">Fill in the **Name** and **Netid** fields.</font>"
   ]
  },
  {
   "cell_type": "markdown",
   "metadata": {},
   "source": [
    "## Activity 1: Hardware\n",
    "\n",
    "The first activity is to gather information from the different computing devices in your life and then compare them:\n",
    "\n",
    "1. Personal Laptop/Desktop- A personal Laptop/Desktop contains a CPU, RAM, HDD/SSD, display/screen as well as a mouse and keyboard. \n",
    "2. Personal Phone/Tablet - A personal Phone/Tablet also contains a CPU, RAM, HDD/SSD, and a touchscreen display. The touchscreen acts as a an input/output device in place of a mouse and keyboard. This device looks different than a laptop or desktop, but it does not work much differently. \n",
    "3. Lab/University Computer - A lab/university computer is exactly the same as a laptop/desktop, but your information on these computers may not be private. These computers run the exact same way as regular laptops or desktops and often look like the personal computers that I own. \n",
    "\n",
    "<font color=\"red\">Describe each of the machines you are comparing.</font>"
   ]
  },
  {
   "cell_type": "markdown",
   "metadata": {},
   "source": [
    "### Device Information\n",
    "\n",
    "First, identify the following information for each device:\n",
    "\n",
    "1. Vendor of machine (Make, Model)\n",
    "2. CPU (Make, Model, Speed)\n",
    "3. RAM (Amount)\n",
    "4. Storage (Type, Amount)\n",
    "5. I/O (Types)\n",
    "\n",
    "<font color=\"red\">Complete the table below for each of the machines you are comparing.</font>\n",
    "\n",
    "| Device                 |  CPU                             | RAM         | Storage   | I/O                         |\n",
    "|------------------------|----------------------------------|-------------|-----------|-----------------------------|\n",
    "| Apple MacBook Pro      | 2.8 GHz Intel Core i7            | 16GB        | SSD 256GB | Keyboard, mouse, LCD        |\n",
    "| iPhone 8 Plus          | 2.39 GHz A11 Bionic Chip         | 3GB         | SSD 64GB  | Touchscreen, volume rocker  |\n",
    "| Lenovo ThinkCenter AIO | Intel Core i7-4785T CPU @2.20GHz | 16GB        | HDD 500GB | Keyboard, mouse, screen     |"
   ]
  },
  {
   "cell_type": "markdown",
   "metadata": {},
   "source": [
    "### Benchmark Results\n",
    "\n",
    "Next, run the [JetStream](https://browserbench.org/JetStream/) browser benchmark on each device.\n",
    "\n",
    "<font color=\"red\">Complete the table below for each of the machines you are comparing.</font>\n",
    "\n",
    "| Device                 | JetStream Geometric Means        |\n",
    "|------------------------|----------------------------------|\n",
    "| Apple Macbook Pro      | 188.44 +/- 4.8861                |\n",
    "| Apple iPhone 8 Plus    | 208.15 +/- 16.964                |\n",
    "| Lenovo ThinkCenter AIO | 152.34 +/- 2.2076                |"
   ]
  },
  {
   "cell_type": "markdown",
   "metadata": {},
   "source": [
    "### Reflection\n",
    "\n",
    "After you have gathered information about your computing devices and performed the benchmarks, answer the following reflection questions:\n",
    "\n",
    "1. From a hardware perspective, how are your computing devices similar?  How are they different?\n",
    "\n",
    "    <font color=\"red\">My computing devices are rather similar in that they all have a CPU, memory, storage, and an ALU. They are different in the input and output hardware. For example my iPhone has a touchscreen, while my macbook only has a keyboard and touchpad. </font>\n",
    "\n",
    "2. What were the results of your benchmarks?  What is your takeway regarding computing hardware that you get from these results?\n",
    "\n",
    "    <font color=\"red\">I find it interesting that my Apple iPhone 8 had a higher Jet Stream Geometric mean than my Macbook Pro. This is interesting because my Macbook pretty much beats out my iPhone in hardware capability. My Macbook has much more RAM as well as processing power. This phenomenon leads me to believe that some external variable is inn play, which likely is due to fluctuations in my innternet connection. </font>"
   ]
  },
  {
   "cell_type": "markdown",
   "metadata": {},
   "source": [
    "## Activity 2: Programming\n",
    "\n",
    "The second activity is to write two short [Python](https://www.python.org/) programs that involve reading input from the user, formatting text, and performing basic mathematical computations."
   ]
  },
  {
   "cell_type": "markdown",
   "metadata": {},
   "source": [
    "### Program 1: Hello, User!\n",
    "\n",
    "The first program is a modification to the classic \"Hello, World!\" program:\n",
    "\n",
    "```\n",
    ">>> print(\"Hello, World!\")\n",
    "Hello, World!\n",
    "```\n",
    "\n",
    "Instead of just printing \"Hello, World!\", you are to use the [input](https://docs.python.org/3/library/functions.html#input) function to read in a name, and then use this name to display \"Hello, name!\".\n",
    "\n",
    "A typical execution of your program should look like this:\n",
    "\n",
    "```\n",
    "What is your name? Peter\n",
    "Hello, Peter!\n",
    "```"
   ]
  },
  {
   "cell_type": "code",
   "execution_count": 8,
   "metadata": {},
   "outputs": [
    {
     "name": "stdout",
     "output_type": "stream",
     "text": [
      "Hello, Sterling!\n"
     ]
    }
   ],
   "source": [
    "name = input(\"What's your name? \")\n",
    "print(\"Hello, {}!\".format(name))"
   ]
  },
  {
   "cell_type": "markdown",
   "metadata": {},
   "source": [
    "### Program 2: Math Formula\n",
    "\n",
    "As discussed in class, programming doesn't necessarily require advanced math skills.  That said, we could always write programs to do math for us when we run into tricky math problems.  For the second program, you are to write an interactive math formula calculator for any of your favorite math equations.\n",
    "\n",
    "For instance, here is the execution of a program that computes the area of a rectangle based on its length and width:\n",
    "\n",
    "```\n",
    "What is the length of the rectangle? 5\n",
    "What is the width of the rectangle? 4\n",
    "The area of the rectangle with length (5) and width (4) is 20.\n",
    "```\n",
    "\n",
    "Note, your program must utilize at least one **variable** that it reads from the user and then **format** a sentence with the result of the equation."
   ]
  },
  {
   "cell_type": "code",
   "execution_count": 3,
   "metadata": {},
   "outputs": [
    {
     "name": "stdout",
     "output_type": "stream",
     "text": [
      "The surface area of the sphere is: 1809.56 cm^2.\n",
      "The volume of the sphere is: 7238.23 cm^3.\n"
     ]
    }
   ],
   "source": [
    "## This program will take in a radius of a sphere and it will compute the volume and surface area of the sphere.\n",
    "import math\n",
    "\n",
    "radius = float(input(\"Please enter the radius of the sphere in cm: \"))\n",
    "surfaceArea = (4.0 * (math.pi) * (radius**2))\n",
    "volume = ((4.0/3.0)*(math.pi)*(radius**3))\n",
    "\n",
    "print(\"The surface area of the sphere is: {:.2f} cm^2.\".format(surfaceArea))\n",
    "print(\"The volume of the sphere is: {:.2f} cm^3.\".format(volume))"
   ]
  }
 ],
 "metadata": {
  "kernelspec": {
   "display_name": "Python 3",
   "language": "python",
   "name": "python3"
  },
  "language_info": {
   "codemirror_mode": {
    "name": "ipython",
    "version": 3
   },
   "file_extension": ".py",
   "mimetype": "text/x-python",
   "name": "python",
   "nbconvert_exporter": "python",
   "pygments_lexer": "ipython3",
   "version": "3.6.5"
  }
 },
 "nbformat": 4,
 "nbformat_minor": 2
}
