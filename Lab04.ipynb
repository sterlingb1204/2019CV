{
 "cells": [
  {
   "cell_type": "markdown",
   "metadata": {},
   "source": [
    "# Lab 04: Duplicates\n",
    "\n",
    "- **Name**:  Sterling Bhollah\n",
    "- **Netid**: sbhollah"
   ]
  },
  {
   "cell_type": "markdown",
   "metadata": {},
   "source": [
    "## Activity 1: Brute-Force"
   ]
  },
  {
   "cell_type": "markdown",
   "metadata": {},
   "source": [
    "### Function"
   ]
  },
  {
   "cell_type": "code",
   "execution_count": 27,
   "metadata": {},
   "outputs": [],
   "source": [
    "def has_duplicates_bf(phrase):\n",
    "    phrase = phrase.lower()\n",
    "    phrase = phrase.split()\n",
    "    for i in range(len(phrase)):\n",
    "        standard = phrase[i]\n",
    "        for k in range(i+1, len(phrase)):\n",
    "            if standard == phrase[k]:\n",
    "                return True\n",
    "        \n",
    "    ''' Use brute-force to determine whether or not the phrase contains duplicate words. '''\n",
    "    return False"
   ]
  },
  {
   "cell_type": "markdown",
   "metadata": {},
   "source": [
    "### Testing"
   ]
  },
  {
   "cell_type": "code",
   "execution_count": 28,
   "metadata": {},
   "outputs": [],
   "source": [
    "LYRICS = [\n",
    "    \"But I've got a blank space, baby and I'll write your name\",\n",
    "    \"Cause we never go out of style, We never go out of style.\",\n",
    "    \"Baby, I'm just gonna shake, shake, shake, shake, shake, I shake it off, I shake it off\",\n",
    "    \"So take a look what you've done, Cause, baby, now we got bad blood\",\n",
    "    \"Ooh, look what you made me do, Look what you made me do\",\n",
    "]"
   ]
  },
  {
   "cell_type": "code",
   "execution_count": 29,
   "metadata": {},
   "outputs": [],
   "source": [
    "def check_lyrics(function, display=True):\n",
    "    for i in LYRICS:\n",
    "        if display:\n",
    "            print(i, \"->\", function(i))\n",
    "        else:\n",
    "            function(i)\n",
    "    ''' Check each lyric in LYRICS list.  Only print the result if display is True. '''\n",
    "    pass"
   ]
  },
  {
   "cell_type": "code",
   "execution_count": 30,
   "metadata": {},
   "outputs": [
    {
     "name": "stdout",
     "output_type": "stream",
     "text": [
      "But I've got a blank space, baby and I'll write your name -> False\n",
      "Cause we never go out of style, We never go out of style. -> True\n",
      "Baby, I'm just gonna shake, shake, shake, shake, shake, I shake it off, I shake it off -> True\n",
      "So take a look what you've done, Cause, baby, now we got bad blood -> False\n",
      "Ooh, look what you made me do, Look what you made me do -> True\n"
     ]
    }
   ],
   "source": [
    "check_lyrics(has_duplicates_bf, display=True)"
   ]
  },
  {
   "cell_type": "markdown",
   "metadata": {},
   "source": [
    "### Benchmarking"
   ]
  },
  {
   "cell_type": "code",
   "execution_count": 31,
   "metadata": {},
   "outputs": [
    {
     "name": "stdout",
     "output_type": "stream",
     "text": [
      "27.1 µs ± 1.38 µs per loop (mean ± std. dev. of 7 runs, 10000 loops each)\n"
     ]
    }
   ],
   "source": [
    "%timeit check_lyrics(has_duplicates_bf, display=False)"
   ]
  },
  {
   "cell_type": "markdown",
   "metadata": {},
   "source": [
    "### Reflection\n",
    "\n",
    "1. Describe the flow control of your `has_duplicates_bf` function.  How did it detect if there was a duplicate word?\n",
    "\n",
    "    <font color=\"red\">The has_duplicates_bf() function takes in a string, called phrase, and first calls the string.lower() function on it to change it to lower case. It then calls phrase.split() function to turn the string into a list of strings with each word becoming a new element. Next, the code initiates a for loop that traverses the range of phrase. The code will set the first word equal to a variable standard that will be compared to each word in order to find duplicates. Once the variable standard is declared, another for loop starts to compare standard to each word in phrase after standard. If there is a duplicate the code, will return True. Otherwise, the code will iterate, set standard to the next word, and compare it to all the other words until it does this for every word in the phrase.</font>\n",
    "\n",
    "2. What is the algorithmic complexity of your `has_duplicates_bf` function?\n",
    "\n",
    "    <font color=\"red\">O(n^2)</font>"
   ]
  },
  {
   "cell_type": "markdown",
   "metadata": {},
   "source": [
    "## Activity 2: Sort and Scan"
   ]
  },
  {
   "cell_type": "markdown",
   "metadata": {},
   "source": [
    "### Function"
   ]
  },
  {
   "cell_type": "code",
   "execution_count": 32,
   "metadata": {},
   "outputs": [],
   "source": [
    "def has_duplicates_sc(phrase):\n",
    "    phrase = phrase.lower()\n",
    "    phrase = sorted(phrase.split())\n",
    "    for i in range(len(phrase)):\n",
    "        if (i < len(phrase) - 1):\n",
    "            if phrase[i] == phrase[i+1]:\n",
    "                return True\n",
    "\n",
    "    ''' Sort and then scan phrase to see if it contains any duplicate words '''\n",
    "    return False"
   ]
  },
  {
   "cell_type": "markdown",
   "metadata": {},
   "source": [
    "### Testing"
   ]
  },
  {
   "cell_type": "code",
   "execution_count": 33,
   "metadata": {},
   "outputs": [
    {
     "name": "stdout",
     "output_type": "stream",
     "text": [
      "But I've got a blank space, baby and I'll write your name -> False\n",
      "Cause we never go out of style, We never go out of style. -> True\n",
      "Baby, I'm just gonna shake, shake, shake, shake, shake, I shake it off, I shake it off -> True\n",
      "So take a look what you've done, Cause, baby, now we got bad blood -> False\n",
      "Ooh, look what you made me do, Look what you made me do -> True\n"
     ]
    }
   ],
   "source": [
    "check_lyrics(has_duplicates_sc, display=True)"
   ]
  },
  {
   "cell_type": "markdown",
   "metadata": {},
   "source": [
    "### Benchmarking"
   ]
  },
  {
   "cell_type": "code",
   "execution_count": 34,
   "metadata": {},
   "outputs": [
    {
     "name": "stdout",
     "output_type": "stream",
     "text": [
      "14.3 µs ± 445 ns per loop (mean ± std. dev. of 7 runs, 100000 loops each)\n"
     ]
    }
   ],
   "source": [
    "%timeit check_lyrics(has_duplicates_sc, display=False)"
   ]
  },
  {
   "cell_type": "markdown",
   "metadata": {},
   "source": [
    "## Reflection\n",
    "\n",
    "1. Describe the flow control of your `has_duplicates_sc` function.  How did it detect if there was a duplicate word?\n",
    "    \n",
    "    <font color=\"red\">The has_duplicates_sc() function takes in a  string, called phrase, and calls the phrase.lower function on the string. Then calls the phrase.split() function to make it a list and then sorts that list using the sorted() function. Then the code uses a for loop to traverse the index of the list, called phrase. If the index of the iterator variable, i, is less than the last index of phrase then it will start the second if statement. I have used this because If I traverse through the whole list and I am at the last index, that means there is not an index after that. If I did not have this first if statement I would have a index out of range error. The second if statement is a nested if-statement that will return True, if the element at the index i is equal to the element at the index next to i. Since my list is sorted, I am able to just check neighbors of elements rather than checking the whole list. If the for loop iterates through the whole list and finds no duplicate neighbors, the program will exit the for-loop and return False.</font>\n",
    "\n",
    "2. What is the algorithmic complexity of your `has_duplicates_sc` function?\n",
    "\n",
    "    <font color=\"red\">O(N)</font>"
   ]
  },
  {
   "cell_type": "markdown",
   "metadata": {},
   "source": [
    "## Activity 3: Sort and Search"
   ]
  },
  {
   "cell_type": "markdown",
   "metadata": {},
   "source": [
    "### Function"
   ]
  },
  {
   "cell_type": "code",
   "execution_count": 35,
   "metadata": {},
   "outputs": [],
   "source": [
    "import bisect\n",
    "#bisect_right returns an index\n",
    "def has_duplicates_bs(phrase):\n",
    "    phrase = phrase.lower()\n",
    "    phrase = sorted(phrase.split())\n",
    "    \n",
    "    for i in range(len(phrase)):\n",
    "        right_i = bisect.bisect_right(phrase, phrase[i])\n",
    "        if i+1 != right_i:\n",
    "            return True\n",
    "    ''' Sort and then perform binary search on phrase to determine if it contains duplicate words '''\n",
    "    return False"
   ]
  },
  {
   "cell_type": "markdown",
   "metadata": {},
   "source": [
    "### Testing"
   ]
  },
  {
   "cell_type": "code",
   "execution_count": 36,
   "metadata": {},
   "outputs": [
    {
     "name": "stdout",
     "output_type": "stream",
     "text": [
      "But I've got a blank space, baby and I'll write your name -> False\n",
      "Cause we never go out of style, We never go out of style. -> True\n",
      "Baby, I'm just gonna shake, shake, shake, shake, shake, I shake it off, I shake it off -> True\n",
      "So take a look what you've done, Cause, baby, now we got bad blood -> False\n",
      "Ooh, look what you made me do, Look what you made me do -> True\n"
     ]
    }
   ],
   "source": [
    "check_lyrics(has_duplicates_bs, display=True)"
   ]
  },
  {
   "cell_type": "markdown",
   "metadata": {},
   "source": [
    "### Benchmarking"
   ]
  },
  {
   "cell_type": "code",
   "execution_count": 37,
   "metadata": {},
   "outputs": [
    {
     "name": "stdout",
     "output_type": "stream",
     "text": [
      "20.2 µs ± 512 ns per loop (mean ± std. dev. of 7 runs, 10000 loops each)\n"
     ]
    }
   ],
   "source": [
    "%timeit check_lyrics(has_duplicates_bs, display=False)"
   ]
  },
  {
   "cell_type": "markdown",
   "metadata": {},
   "source": [
    "## Reflection\n",
    "\n",
    "1. Describe the flow control of your `has_duplicates_bs` function.  How did it detect if there was a duplicate word?\n",
    "\n",
    "    <font color=\"red\">The function starts by calling the phrase.lower(), phrase.split(), and then the sorted() function on phrase in order to convert the string to lowercase, split the function into a list, and then sort it. The function will then start a for loop that traverses the range of len(phrase). Every time the for-loop iterates, the function calls the bisect.bisect_right function on phrase, phrase[i]. In order to obtain the right-most index in which the target word can be inserted into the list without causing it to become unsorted. This is stored in the variable right_i. If the index +1 of the element that I am currently checking for duplicates is not equal to the index from the return of the bisect_right function then that means there must be duplicates, since if there were no duplicates in that list, the besect.bisect_right() function will return the same index as the index+1 of phrase[i].</font>\n",
    "\n",
    "2. What is the algorithmic complexity of your `has_duplicates_bs` function?\n",
    "\n",
    "    <font color=\"red\">O(nlogn) because its a combination of a for loop which is n and then binary search which is logn</font>"
   ]
  },
  {
   "cell_type": "markdown",
   "metadata": {},
   "source": [
    "## Activity 4: Reflection\n",
    "\n",
    "Examining the results of Activities 1, 2, and 3, what can you say about the relationship between algorithmic complexity and real world performance?\n",
    "\n",
    "<font color=\"red\">There seems to be no significant correlation between real world performance times and algorithmic complexity, based on this code. Based on the algorithmic complexities I would hypothesize that has-duplicates_bs would be the fastest and has_duplicates_bf would be the slowest. However, in the cases that I tested the has_duplicates_sc was the slowest, but the has_duplicates_bf was still the slowest. The difference in the speeds of the codes are due to the difference in cases. Sometimes the number will be in the best case while other times it may be in the worst case so thats what changes the performance times. This variance in minimized in some cases when there are larger sets of data being aggregated.</font>"
   ]
  },
  {
   "cell_type": "code",
   "execution_count": null,
   "metadata": {},
   "outputs": [],
   "source": []
  }
 ],
 "metadata": {
  "kernelspec": {
   "display_name": "Python 3",
   "language": "python",
   "name": "python3"
  },
  "language_info": {
   "codemirror_mode": {
    "name": "ipython",
    "version": 3
   },
   "file_extension": ".py",
   "mimetype": "text/x-python",
   "name": "python",
   "nbconvert_exporter": "python",
   "pygments_lexer": "ipython3",
   "version": "3.6.8"
  }
 },
 "nbformat": 4,
 "nbformat_minor": 2
}
