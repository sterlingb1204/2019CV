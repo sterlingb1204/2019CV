{
 "cells": [
  {
   "cell_type": "raw",
   "metadata": {},
   "source": [
    "# Lab 02: Letter Grade, Stadium Seating\n",
    "\n",
    "- **name**: Sterling Bhollah\n",
    "- **netid**: sbhollah"
   ]
  },
  {
   "cell_type": "code",
   "execution_count": 11,
   "metadata": {},
   "outputs": [],
   "source": [
    "from ipywidgets import interact"
   ]
  },
  {
   "cell_type": "markdown",
   "metadata": {},
   "source": [
    "## Activity 1: Letter Grade"
   ]
  },
  {
   "cell_type": "markdown",
   "metadata": {},
   "source": [
    "### Functions"
   ]
  },
  {
   "cell_type": "code",
   "execution_count": 12,
   "metadata": {},
   "outputs": [],
   "source": [
    "def letter_grade(points):\n",
    "    \n",
    "    if points >= 280 and points <= 300:\n",
    "        return \"A\"\n",
    "    elif points >= 270 and points <=279:\n",
    "        return \"A-\"\n",
    "    elif points >= 260 and points <= 269:\n",
    "        return \"B+\"\n",
    "    elif points >= 250 and points <= 259:\n",
    "        return \"B\"\n",
    "    elif points >= 240 and points <= 249:\n",
    "        return \"B-\"\n",
    "    elif points >= 230 and points <= 239:\n",
    "        return \"C+\"\n",
    "    elif points >= 220 and points <= 229:\n",
    "        return \"C\"\n",
    "    elif points >= 210 and points <= 219:\n",
    "        return \"C-\"\n",
    "    elif points >= 195 and points <= 209:\n",
    "        return \"D\"\n",
    "    return \"F\"\n",
    "    \n",
    "    ''' Return letter grade based on given points. '''\n",
    "    # TODO: Implement function"
   ]
  },
  {
   "cell_type": "code",
   "execution_count": 13,
   "metadata": {},
   "outputs": [
    {
     "data": {
      "text/plain": [
       "'C+'"
      ]
     },
     "execution_count": 13,
     "metadata": {},
     "output_type": "execute_result"
    }
   ],
   "source": [
    "letter_grade(230)"
   ]
  },
  {
   "cell_type": "code",
   "execution_count": 14,
   "metadata": {},
   "outputs": [],
   "source": [
    "MAX_POINTS = 300\n",
    "\n",
    "def summarize_grade(points):\n",
    "    percentage = (points/MAX_POINTS)*100\n",
    "    print(\"Grade of {} / 300 is {:.2f}% ({})\".format(points, percentage, letter_grade(points)))\n",
    "    \n",
    "    #''' Display grade as percentage and letter '''\n",
    "    # TODO: Implement function"
   ]
  },
  {
   "cell_type": "markdown",
   "metadata": {},
   "source": [
    "### Interaction"
   ]
  },
  {
   "cell_type": "code",
   "execution_count": 15,
   "metadata": {},
   "outputs": [
    {
     "data": {
      "application/vnd.jupyter.widget-view+json": {
       "model_id": "e20c897540e948e0a62e5b77ae479e28",
       "version_major": 2,
       "version_minor": 0
      },
      "text/plain": [
       "interactive(children=(IntSlider(value=150, description='points', max=300), Output()), _dom_classes=('widget-in…"
      ]
     },
     "metadata": {},
     "output_type": "display_data"
    },
    {
     "data": {
      "text/plain": [
       "<function __main__.summarize_grade(points)>"
      ]
     },
     "execution_count": 15,
     "metadata": {},
     "output_type": "execute_result"
    }
   ],
   "source": [
    "interact(summarize_grade, points=(0, 300))"
   ]
  },
  {
   "cell_type": "markdown",
   "metadata": {},
   "source": [
    "### Reflection\n",
    "\n",
    "1. Describe the **flow control** of your program.  Did you use **alternative execution**, **chained conditionals**, or **nested conditionals**?\n",
    "\n",
    "    <font color=\"red\">This program starts by calling the interact function and passing in the summarize grade function and constraining the points to 0,300. The program then runs the summarize grade function which will compute a percentage based on the global variable MAX_POINTS and then print the calculation. During the execution of this print statement, the program calls the function letter_grade() and passes in the variable points. The letter_grade() function will then run using chained conditionals to determine which number corresponds to each letter grade. In this function, the points variable will be checked against each if-statement. If points causes any of the if-statements to evaluate to True the function will return a letter grade otherwise it will continue to go to the next if-statement to determine if points falls in the range of values in the next condition. If no condition evaluates to True, the program will return \"F\". The letter_grade() function will return a letter grade and the print statement in summarize_grade() will be printed for the user. I used chained conditionals for the letter_grade() function because I had more than 2 options so I was unable to use alternative execution. In addition, nested conditionals was unneccesary for this program so I did not use it.</font>\n",
    "\n",
    "2. As programs become more complex, it is important to break programs down into smaller individual components such as **functions**.  Discuss how having separate `letter_grade` and `summarize_grade` **functions** was useful in this program. \n",
    "\n",
    "    <font color=\"red\">Having seperate functions is useful because it allows me easily debug an error. If I had a very long program it would be much more difficult to identify the error. However, when I break the program intop smaller functions I can call each seperate function to test if there are any errors. That way, I can call each function within a program knowing that each smaller function already works.</font>"
   ]
  },
  {
   "cell_type": "markdown",
   "metadata": {},
   "source": [
    "## Activity 2: Stadium Seating"
   ]
  },
  {
   "cell_type": "markdown",
   "metadata": {},
   "source": [
    "### Functions"
   ]
  },
  {
   "cell_type": "code",
   "execution_count": 16,
   "metadata": {},
   "outputs": [],
   "source": [
    "def find_stadium_gate(section):\n",
    "    \n",
    "    if ((section >=0 and section <= 9) or (section >=101 and section <= 109)):\n",
    "        return \"A\"\n",
    "    elif((section >= 10 and section <=18) or (section >= 110 and section <= 118)):\n",
    "        return \"B\"\n",
    "    elif((section >=19 and section <= 27) or (section >= 119 and section <=127)):\n",
    "        return \"D\"\n",
    "    elif((section >=28 and section <= 36) or (section >= 128 and section <=136)):\n",
    "        return \"E\"\n",
    "#''' Return the closest gate corresponding to the given stadium section. '''\n",
    "    # TODO: Implement function\n",
    "    return None"
   ]
  },
  {
   "cell_type": "code",
   "execution_count": 36,
   "metadata": {},
   "outputs": [],
   "source": [
    "def display_gate(section):\n",
    "    if section == \"\":\n",
    "        return None\n",
    "    section = int(section)\n",
    "    \n",
    "    if find_stadium_gate(section) == None:\n",
    "        print(\"Invalid Section: {}\".format(section))\n",
    "    else:\n",
    "        print(\"Seats in Section {} should use Gate {}\".format(section, find_stadium_gate(section)))\n",
    "    \n",
    "    ''' Display which gate seats in given section should use. '''\n",
    "    # TODO: Implement function\n",
    "    pass"
   ]
  },
  {
   "cell_type": "markdown",
   "metadata": {},
   "source": [
    "### Interaction"
   ]
  },
  {
   "cell_type": "code",
   "execution_count": 37,
   "metadata": {},
   "outputs": [
    {
     "data": {
      "application/vnd.jupyter.widget-view+json": {
       "model_id": "818493483cbd4d6aaf406e27b4618eac",
       "version_major": 2,
       "version_minor": 0
      },
      "text/plain": [
       "interactive(children=(Text(value='', description='section'), Output()), _dom_classes=('widget-interact',))"
      ]
     },
     "metadata": {},
     "output_type": "display_data"
    },
    {
     "data": {
      "text/plain": [
       "<function __main__.display_gate(section)>"
      ]
     },
     "execution_count": 37,
     "metadata": {},
     "output_type": "execute_result"
    }
   ],
   "source": [
    "interact(display_gate, section ='')"
   ]
  },
  {
   "cell_type": "markdown",
   "metadata": {},
   "source": [
    "### Reflection\n",
    "\n",
    "1. Describe the **flow control** of your program.  Did you use **alternative execution**, **chained conditionals**, or **nested conditionals**?\n",
    "\n",
    "      <font color=\"red\">The program starts with the interact function that calls the display_gate() function and sets section to the user input. Next, the display gate function runs an if-statement using alternative execution to check if the string is empty, in which case the program will stop and return None. Otherwise, it will convert the string user input into an int variable. The program will then use alternative execution to run an if-statement that calls the find_stadium_gate() function and checks if it returned None, which would mean the user inputed an invalid section. Otherwise, the function will print the section and its respective gate to the user. In the find_stadium_gate function, I used chained conditionals because I had more than 2 options for gates so I could not use alternative execution. </font>\n",
    "\n",
    "2. A core part of building **robust** applications is having code that can **handle errors** such as invalid user input data.  In this program, describe the ways in which you **accounted** for possible invalid data.\n",
    "\n",
    "      <font color=\"red\">I accounted for invalid input by implementing an if-statement in the find_stadium_gate() function that will return None if none of the if-statement conditions evaluate to true. When the find_stadium_gate() function returns None, the display_gate() function will call this return and print Invalid Section and the user will need to input a valid input. </font>"
   ]
  },
  {
   "cell_type": "code",
   "execution_count": null,
   "metadata": {},
   "outputs": [],
   "source": []
  }
 ],
 "metadata": {
  "kernelspec": {
   "display_name": "Python 3",
   "language": "python",
   "name": "python3"
  },
  "language_info": {
   "codemirror_mode": {
    "name": "ipython",
    "version": 3
   },
   "file_extension": ".py",
   "mimetype": "text/x-python",
   "name": "python",
   "nbconvert_exporter": "python",
   "pygments_lexer": "ipython3",
   "version": "3.6.8"
  }
 },
 "nbformat": 4,
 "nbformat_minor": 2
}
