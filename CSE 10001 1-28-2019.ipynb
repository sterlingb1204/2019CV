{
 "cells": [
  {
   "cell_type": "code",
   "execution_count": 1,
   "metadata": {},
   "outputs": [],
   "source": [
    "import dis"
   ]
  },
  {
   "cell_type": "code",
   "execution_count": 5,
   "metadata": {},
   "outputs": [
    {
     "name": "stdout",
     "output_type": "stream",
     "text": [
      "x?3\n",
      "y?4\n",
      "7\n"
     ]
    }
   ],
   "source": [
    "def simple():\n",
    "    x = int(input(\"x?\"))\n",
    "    y = int(input(\"y?\"))\n",
    "    print(x + y)"
   ]
  },
  {
   "cell_type": "code",
   "execution_count": 6,
   "metadata": {},
   "outputs": [
    {
     "name": "stdout",
     "output_type": "stream",
     "text": [
      "x?3\n",
      "y?4\n",
      " 99           0 LOAD_GLOBAL              0 (compile)\n",
      "              2 LOAD_FAST                1 (source)\n",
      "              4 LOAD_FAST                2 (filename)\n",
      "              6 LOAD_FAST                3 (symbol)\n",
      "              8 LOAD_FAST                0 (self)\n",
      "             10 LOAD_ATTR                1 (flags)\n",
      "             12 LOAD_GLOBAL              2 (PyCF_ONLY_AST)\n",
      "             14 BINARY_OR\n",
      "             16 LOAD_CONST               1 (1)\n",
      "    -->      18 CALL_FUNCTION            5\n",
      "             20 RETURN_VALUE\n"
     ]
    }
   ],
   "source": [
    "dis.dis(simple())"
   ]
  },
  {
   "cell_type": "code",
   "execution_count": 12,
   "metadata": {},
   "outputs": [],
   "source": [
    "def loop():\n",
    "    total = 0\n",
    "    number = int(input(\"num?\"))\n",
    "    while number != 0:\n",
    "        total = number + total\n",
    "        number = int(input(\"num?\"))\n",
    "    print(total)"
   ]
  },
  {
   "cell_type": "code",
   "execution_count": 14,
   "metadata": {},
   "outputs": [
    {
     "name": "stdout",
     "output_type": "stream",
     "text": [
      "num?3\n",
      "num?4\n",
      "num?5\n",
      "num?6\n",
      "num?7\n",
      "num?0\n",
      "25\n",
      "  1 -->       0 LOAD_NAME                0 (did)\n",
      "              2 LOAD_ATTR                1 (dis)\n",
      "              4 LOAD_NAME                2 (loop)\n",
      "              6 CALL_FUNCTION            0\n",
      "              8 CALL_FUNCTION            1\n",
      "             10 PRINT_EXPR\n",
      "             12 LOAD_CONST               0 (None)\n",
      "             14 RETURN_VALUE\n"
     ]
    }
   ],
   "source": [
    "dis.dis(loop())"
   ]
  },
  {
   "cell_type": "code",
   "execution_count": 17,
   "metadata": {},
   "outputs": [
    {
     "name": "stdout",
     "output_type": "stream",
     "text": [
      "num?3\n",
      "num?4\n",
      "num?5\n",
      "num?6\n",
      "num?7\n",
      "num?8\n",
      "num?9\n",
      "num?0\n",
      "42\n",
      "None\n"
     ]
    }
   ],
   "source": [
    "print(loop())"
   ]
  },
  {
   "cell_type": "code",
   "execution_count": null,
   "metadata": {},
   "outputs": [],
   "source": []
  }
 ],
 "metadata": {
  "kernelspec": {
   "display_name": "Python 3",
   "language": "python",
   "name": "python3"
  },
  "language_info": {
   "codemirror_mode": {
    "name": "ipython",
    "version": 3
   },
   "file_extension": ".py",
   "mimetype": "text/x-python",
   "name": "python",
   "nbconvert_exporter": "python",
   "pygments_lexer": "ipython3",
   "version": "3.6.5"
  }
 },
 "nbformat": 4,
 "nbformat_minor": 2
}
